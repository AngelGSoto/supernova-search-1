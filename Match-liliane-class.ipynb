{
 "cells": [
  {
   "cell_type": "markdown",
   "id": "0bb731ad",
   "metadata": {},
   "source": [
    "# Script to find the SPLUS coincedences "
   ]
  },
  {
   "cell_type": "markdown",
   "id": "5985271c",
   "metadata": {},
   "source": [
    "Here, we are doing cross-match between a table and [SPLUS](https://splus.cloud) database using $\\textbf{splusdata}$ package."
   ]
  },
  {
   "cell_type": "code",
   "execution_count": 1,
   "id": "fffb9879",
   "metadata": {},
   "outputs": [],
   "source": [
    "import splusdata\n",
    "import getpass\n",
    "import pandas as pd"
   ]
  },
  {
   "cell_type": "code",
   "execution_count": 2,
   "id": "d78105a4",
   "metadata": {},
   "outputs": [
    {
     "name": "stdout",
     "output_type": "stream",
     "text": [
      "Login: Luis\n",
      "Password: ········\n",
      "You have access to internal data\n"
     ]
    }
   ],
   "source": [
    "# Connecting with SPLUS database\n",
    "username = input(prompt=\"Login: \")\n",
    "password = getpass.getpass(\"Password: \")\n",
    "conn = splusdata.connect(username, password)"
   ]
  },
  {
   "cell_type": "code",
   "execution_count": 3,
   "id": "e9a8e8e6",
   "metadata": {},
   "outputs": [
    {
     "data": {
      "text/html": [
       "<div>\n",
       "<style scoped>\n",
       "    .dataframe tbody tr th:only-of-type {\n",
       "        vertical-align: middle;\n",
       "    }\n",
       "\n",
       "    .dataframe tbody tr th {\n",
       "        vertical-align: top;\n",
       "    }\n",
       "\n",
       "    .dataframe thead th {\n",
       "        text-align: right;\n",
       "    }\n",
       "</style>\n",
       "<table border=\"1\" class=\"dataframe\">\n",
       "  <thead>\n",
       "    <tr style=\"text-align: right;\">\n",
       "      <th></th>\n",
       "      <th>ID</th>\n",
       "      <th>RA</th>\n",
       "      <th>DEC</th>\n",
       "      <th>FWHM_R</th>\n",
       "    </tr>\n",
       "  </thead>\n",
       "  <tbody>\n",
       "    <tr>\n",
       "      <th>0</th>\n",
       "      <td>iDR3.STRIPE82-0001.000088</td>\n",
       "      <td>359.821764</td>\n",
       "      <td>-1.409452</td>\n",
       "      <td>5.948420</td>\n",
       "    </tr>\n",
       "    <tr>\n",
       "      <th>1</th>\n",
       "      <td>iDR3.STRIPE82-0001.000165</td>\n",
       "      <td>359.898317</td>\n",
       "      <td>-1.406894</td>\n",
       "      <td>5.268521</td>\n",
       "    </tr>\n",
       "    <tr>\n",
       "      <th>2</th>\n",
       "      <td>iDR3.STRIPE82-0001.000195</td>\n",
       "      <td>359.513864</td>\n",
       "      <td>-1.405925</td>\n",
       "      <td>10.027714</td>\n",
       "    </tr>\n",
       "  </tbody>\n",
       "</table>\n",
       "</div>"
      ],
      "text/plain": [
       "                          ID          RA       DEC     FWHM_R\n",
       "0  iDR3.STRIPE82-0001.000088  359.821764 -1.409452   5.948420\n",
       "1  iDR3.STRIPE82-0001.000165  359.898317 -1.406894   5.268521\n",
       "2  iDR3.STRIPE82-0001.000195  359.513864 -1.405925  10.027714"
      ]
     },
     "execution_count": 3,
     "metadata": {},
     "output_type": "execute_result"
    }
   ],
   "source": [
    "# Reading the csv table\n",
    "df = pd.read_csv('selected-gals.csv')\n",
    "df.head(3)"
   ]
  },
  {
   "cell_type": "code",
   "execution_count": 4,
   "id": "534bff2b",
   "metadata": {},
   "outputs": [
    {
     "name": "stdout",
     "output_type": "stream",
     "text": [
      "finished\n"
     ]
    }
   ],
   "source": [
    "# Query with our criteria nad join the tables\n",
    "Query = f\"\"\"SELECT upl.ID, upl.RA, upl.DEC, upl.FWHM_R, sgq.PROB_STAR, sgq.PROB_QSO, sgq.PROB_GAL \n",
    "                 FROM TAP_UPLOAD.upload AS upl LEFT OUTER JOIN \"idr3_vacs\".\"star_galaxy_quasar\" AS sgq \n",
    "                 ON upl.id = sgq.id WHERE \"CLASS\" = 2\"\"\"\n",
    "\n",
    "# Applien query\n",
    "result = conn.query(Query, df)"
   ]
  },
  {
   "cell_type": "code",
   "execution_count": 5,
   "id": "5293d97e",
   "metadata": {},
   "outputs": [
    {
     "data": {
      "text/html": [
       "<div><i>Table length=1486</i>\n",
       "<table id=\"table140419437289136\" class=\"table-striped table-bordered table-condensed\">\n",
       "<thead><tr><th>ID</th><th>RA</th><th>DEC</th><th>FWHM_R</th><th>PROB_STAR</th><th>PROB_QSO</th><th>PROB_GAL</th></tr></thead>\n",
       "<thead><tr><th>bytes25</th><th>float64</th><th>float64</th><th>float64</th><th>float64</th><th>float64</th><th>float64</th></tr></thead>\n",
       "<tr><td>iDR3.STRIPE82-0001.000088</td><td>359.82176447675937</td><td>-1.4094522019267215</td><td>5.94842004776001</td><td>0.0</td><td>0.0</td><td>1.0</td></tr>\n",
       "<tr><td>iDR3.STRIPE82-0001.000165</td><td>359.8983171777531</td><td>-1.406893890087187</td><td>5.268520832061768</td><td>0.01</td><td>0.0</td><td>0.99</td></tr>\n",
       "<tr><td>iDR3.STRIPE82-0001.000195</td><td>359.51386369148315</td><td>-1.4059249276509815</td><td>10.027713775634766</td><td>0.0</td><td>0.0</td><td>1.0</td></tr>\n",
       "<tr><td>iDR3.STRIPE82-0001.000395</td><td>359.5144485480516</td><td>-1.4005509494993127</td><td>9.778894424438477</td><td>0.0</td><td>0.0</td><td>1.0</td></tr>\n",
       "<tr><td>iDR3.STRIPE82-0001.000409</td><td>359.4074077907685</td><td>-1.4001904395588152</td><td>5.183852672576904</td><td>0.0</td><td>0.0</td><td>1.0</td></tr>\n",
       "<tr><td>iDR3.STRIPE82-0001.000433</td><td>0.4699941492567335</td><td>-1.400680739278803</td><td>7.895710468292236</td><td>0.06</td><td>0.0</td><td>0.94</td></tr>\n",
       "<tr><td>iDR3.STRIPE82-0001.000640</td><td>0.4276622725660639</td><td>-1.3942456562123833</td><td>12.185962677001951</td><td>0.0</td><td>0.0</td><td>1.0</td></tr>\n",
       "<tr><td>iDR3.STRIPE82-0001.000657</td><td>0.6619778370498633</td><td>-1.3937748175292457</td><td>6.294702053070068</td><td>0.06</td><td>0.02</td><td>0.92</td></tr>\n",
       "<tr><td>iDR3.STRIPE82-0001.000789</td><td>0.685663672363507</td><td>-1.389904935425997</td><td>6.61725664138794</td><td>0.01</td><td>0.0</td><td>0.99</td></tr>\n",
       "<tr><td>iDR3.STRIPE82-0001.000984</td><td>0.6673223625822773</td><td>-1.385016369580884</td><td>9.0252103805542</td><td>0.01</td><td>0.0</td><td>0.99</td></tr>\n",
       "<tr><td>...</td><td>...</td><td>...</td><td>...</td><td>...</td><td>...</td><td>...</td></tr>\n",
       "<tr><td>iDR3.STRIPE82-0001.049252</td><td>0.60453572991556</td><td>-0.0438953157832479</td><td>5.696691989898682</td><td>0.0</td><td>0.0</td><td>1.0</td></tr>\n",
       "<tr><td>iDR3.STRIPE82-0001.049323</td><td>359.55316995475795</td><td>-0.1111680361350329</td><td>11.1461820602417</td><td>0.0</td><td>0.0</td><td>1.0</td></tr>\n",
       "<tr><td>iDR3.STRIPE82-0001.049358</td><td>359.72021565237003</td><td>-0.135144725884598</td><td>4.957715034484863</td><td>0.0</td><td>0.0</td><td>1.0</td></tr>\n",
       "<tr><td>iDR3.STRIPE82-0001.049362</td><td>359.5488340618886</td><td>-0.1322465060419068</td><td>9.815788269042969</td><td>0.0</td><td>0.0</td><td>1.0</td></tr>\n",
       "<tr><td>iDR3.STRIPE82-0001.049391</td><td>0.2692739107904267</td><td>-0.1134860223386565</td><td>10.816638946533203</td><td>0.0</td><td>0.0</td><td>1.0</td></tr>\n",
       "<tr><td>iDR3.STRIPE82-0001.049407</td><td>0.2605632113689878</td><td>-0.1127043157896005</td><td>8.24222183227539</td><td>0.01</td><td>0.0</td><td>0.99</td></tr>\n",
       "<tr><td>iDR3.STRIPE82-0001.049432</td><td>0.0443669060850566</td><td>-0.114088870024728</td><td>12.653216361999512</td><td>0.04</td><td>0.01</td><td>0.95</td></tr>\n",
       "<tr><td>iDR3.STRIPE82-0001.049436</td><td>0.0036701520752632</td><td>-0.1047078048848985</td><td>6.227906227111816</td><td>0.14</td><td>0.035</td><td>0.825</td></tr>\n",
       "<tr><td>iDR3.STRIPE82-0001.049469</td><td>0.1595514329562909</td><td>-0.1160279192824793</td><td>15.104507446289062</td><td>0.0</td><td>0.0</td><td>1.0</td></tr>\n",
       "<tr><td>iDR3.STRIPE82-0001.049474</td><td>0.3722968866553336</td><td>-0.1138467478024221</td><td>7.51745080947876</td><td>0.0</td><td>0.0</td><td>1.0</td></tr>\n",
       "</table></div>"
      ],
      "text/plain": [
       "<Table length=1486>\n",
       "            ID                    RA         ... PROB_QSO PROB_GAL\n",
       "         bytes25               float64       ... float64  float64 \n",
       "------------------------- ------------------ ... -------- --------\n",
       "iDR3.STRIPE82-0001.000088 359.82176447675937 ...      0.0      1.0\n",
       "iDR3.STRIPE82-0001.000165  359.8983171777531 ...      0.0     0.99\n",
       "iDR3.STRIPE82-0001.000195 359.51386369148315 ...      0.0      1.0\n",
       "iDR3.STRIPE82-0001.000395  359.5144485480516 ...      0.0      1.0\n",
       "iDR3.STRIPE82-0001.000409  359.4074077907685 ...      0.0      1.0\n",
       "iDR3.STRIPE82-0001.000433 0.4699941492567335 ...      0.0     0.94\n",
       "iDR3.STRIPE82-0001.000640 0.4276622725660639 ...      0.0      1.0\n",
       "iDR3.STRIPE82-0001.000657 0.6619778370498633 ...     0.02     0.92\n",
       "iDR3.STRIPE82-0001.000789  0.685663672363507 ...      0.0     0.99\n",
       "iDR3.STRIPE82-0001.000984 0.6673223625822773 ...      0.0     0.99\n",
       "                      ...                ... ...      ...      ...\n",
       "iDR3.STRIPE82-0001.049252   0.60453572991556 ...      0.0      1.0\n",
       "iDR3.STRIPE82-0001.049323 359.55316995475795 ...      0.0      1.0\n",
       "iDR3.STRIPE82-0001.049358 359.72021565237003 ...      0.0      1.0\n",
       "iDR3.STRIPE82-0001.049362  359.5488340618886 ...      0.0      1.0\n",
       "iDR3.STRIPE82-0001.049391 0.2692739107904267 ...      0.0      1.0\n",
       "iDR3.STRIPE82-0001.049407 0.2605632113689878 ...      0.0     0.99\n",
       "iDR3.STRIPE82-0001.049432 0.0443669060850566 ...     0.01     0.95\n",
       "iDR3.STRIPE82-0001.049436 0.0036701520752632 ...    0.035    0.825\n",
       "iDR3.STRIPE82-0001.049469 0.1595514329562909 ...      0.0      1.0\n",
       "iDR3.STRIPE82-0001.049474 0.3722968866553336 ...      0.0      1.0"
      ]
     },
     "execution_count": 5,
     "metadata": {},
     "output_type": "execute_result"
    }
   ],
   "source": [
    "result"
   ]
  },
  {
   "cell_type": "code",
   "execution_count": 6,
   "id": "f78fcd2f",
   "metadata": {},
   "outputs": [],
   "source": [
    "#Converting the astropy table into pandas and saving\n",
    "df_result = result.to_pandas()\n",
    "df_result.to_csv(\"selected-gals-class-liliane.csv\")"
   ]
  },
  {
   "cell_type": "code",
   "execution_count": null,
   "id": "3a271cee",
   "metadata": {},
   "outputs": [],
   "source": []
  }
 ],
 "metadata": {
  "kernelspec": {
   "display_name": "Python 3",
   "language": "python",
   "name": "python3"
  },
  "language_info": {
   "codemirror_mode": {
    "name": "ipython",
    "version": 3
   },
   "file_extension": ".py",
   "mimetype": "text/x-python",
   "name": "python",
   "nbconvert_exporter": "python",
   "pygments_lexer": "ipython3",
   "version": "3.8.5"
  }
 },
 "nbformat": 4,
 "nbformat_minor": 5
}
