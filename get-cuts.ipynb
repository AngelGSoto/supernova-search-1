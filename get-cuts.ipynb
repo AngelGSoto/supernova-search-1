{
 "cells": [
  {
   "cell_type": "code",
   "execution_count": null,
   "id": "7a58e19d",
   "metadata": {
    "tags": []
   },
   "outputs": [],
   "source": [
    "import splusdata\n",
    "import pandas as pd\n",
    "\n",
    "conn = splusdata.connect('juliamoliveira', '10203040')\n",
    "\n",
    "df = pd.read_csv('selected-gals.csv')\n",
    "\n",
    "for key, value in df.iterrows():\n",
    "    hdu = conn.get_cut(value.RA, value.DEC, 128, 'R')\n",
    "    print(hdu)\n",
    "    print(value.RA, value.DEC)\n",
    "    hdu.writeto(f'{value.ID}.fits')"
   ]
  },
  {
   "cell_type": "code",
   "execution_count": null,
   "id": "bcfe9788",
   "metadata": {},
   "outputs": [],
   "source": []
  }
 ],
 "metadata": {
  "kernelspec": {
   "display_name": "Python 3",
   "language": "python",
   "name": "python3"
  },
  "language_info": {
   "codemirror_mode": {
    "name": "ipython",
    "version": 3
   },
   "file_extension": ".py",
   "mimetype": "text/x-python",
   "name": "python",
   "nbconvert_exporter": "python",
   "pygments_lexer": "ipython3",
   "version": "3.8.8"
  }
 },
 "nbformat": 4,
 "nbformat_minor": 5
}
